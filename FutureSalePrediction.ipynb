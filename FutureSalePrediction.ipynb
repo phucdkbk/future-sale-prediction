{
 "cells": [
  {
   "cell_type": "code",
   "execution_count": 1,
   "id": "1c37c67d",
   "metadata": {},
   "outputs": [
    {
     "name": "stderr",
     "output_type": "stream",
     "text": [
      "/tmp/ipykernel_16632/1343480259.py:12: TqdmDeprecationWarning: This function will be removed in tqdm==5.0.0\n",
      "Please use `tqdm.notebook.tqdm` instead of `tqdm.tqdm_notebook`\n",
      "  tqdm_notebook().pandas()\n"
     ]
    },
    {
     "data": {
      "application/vnd.jupyter.widget-view+json": {
       "model_id": "e66d98f5a75f454fabb9388cecf08ace",
       "version_major": 2,
       "version_minor": 0
      },
      "text/plain": [
       "0it [00:00, ?it/s]"
      ]
     },
     "metadata": {},
     "output_type": "display_data"
    }
   ],
   "source": [
    "import os\n",
    "import sys\n",
    "import gc\n",
    "import itertools\n",
    "import pandas as pd\n",
    "import matplotlib.pyplot as plt\n",
    "import seaborn as sns\n",
    "import numpy as np\n",
    "import lightgbm as lgb\n",
    "from tqdm import tqdm_notebook\n",
    "from sklearn.model_selection import train_test_split\n",
    "tqdm_notebook().pandas()"
   ]
  },
  {
   "cell_type": "code",
   "execution_count": 2,
   "id": "9b170300",
   "metadata": {},
   "outputs": [],
   "source": [
    "train = pd.read_csv('train.csv')\n",
    "test = pd.read_csv('test.csv')\n",
    "items = pd.read_csv('items.csv')\n",
    "item_categories = pd.read_csv('item_categories.csv')\n",
    "shops = pd.read_csv('shops.csv')"
   ]
  },
  {
   "cell_type": "code",
   "execution_count": 3,
   "id": "944cf02e",
   "metadata": {},
   "outputs": [
    {
     "name": "stdout",
     "output_type": "stream",
     "text": [
      "64.1% compressed\n",
      "69.1% compressed\n",
      "81.2% compressed\n",
      "73.5% compressed\n",
      "70.8% compressed\n"
     ]
    }
   ],
   "source": [
    "def downcast(df, verbose=True):\n",
    "    start_mem = df.memory_usage().sum() / 1024**2\n",
    "    for col in df.columns:\n",
    "        dtype_name = df[col].dtype.name\n",
    "        if dtype_name == 'object':\n",
    "            pass\n",
    "        elif dtype_name == 'bool':\n",
    "            df[col] = df[col].astype('int8')\n",
    "        elif dtype_name.startswith('int') or (df[col].round() == df[col]).all():\n",
    "            df[col] = pd.to_numeric(df[col], downcast='integer')\n",
    "        else:\n",
    "            df[col] = pd.to_numeric(df[col], downcast='float')\n",
    "    end_mem = df.memory_usage().sum() / 1024**2\n",
    "    if verbose:\n",
    "        print('{:.1f}% compressed'.format(100 * (start_mem - end_mem) / start_mem))\n",
    "    \n",
    "    return df\n",
    "\n",
    "all_df = [train, shops, items, item_categories, test]\n",
    "for df in all_df:\n",
    "    df = downcast(df)"
   ]
  },
  {
   "cell_type": "markdown",
   "id": "9c8b7914",
   "metadata": {},
   "source": [
    "## EDA"
   ]
  },
  {
   "cell_type": "code",
   "execution_count": 4,
   "id": "cd274826",
   "metadata": {},
   "outputs": [],
   "source": [
    "item_agg = train.groupby(by='item_id').agg({\n",
    "    'item_price':['count', 'mean', 'std'],\n",
    "    'item_category_id':'nunique',\n",
    "    'shop_id': 'nunique'\n",
    "})\n",
    "item_agg.columns = ['_'.join(column) for column in item_agg.columns]\n",
    "item_agg = item_agg.reset_index()"
   ]
  },
  {
   "cell_type": "code",
   "execution_count": 5,
   "id": "1a84bfd3",
   "metadata": {},
   "outputs": [
    {
     "data": {
      "text/plain": [
       "<AxesSubplot:xlabel='item_price_std', ylabel='Count'>"
      ]
     },
     "execution_count": 5,
     "metadata": {},
     "output_type": "execute_result"
    },
    {
     "data": {
      "image/png": "[encoded data removed]",
      "text/plain": [
       "<Figure size 432x288 with 1 Axes>"
      ]
     },
     "metadata": {
      "needs_background": "light"
     },
     "output_type": "display_data"
    }
   ],
   "source": [
    "sns.histplot(item_agg['item_price_std'])"
   ]
  },
  {
   "cell_type": "code",
   "execution_count": 6,
   "id": "a52ba8c2",
   "metadata": {},
   "outputs": [
    {
     "data": {
      "text/plain": [
       "0"
      ]
     },
     "execution_count": 6,
     "metadata": {},
     "output_type": "execute_result"
    }
   ],
   "source": [
    "sum(item_agg['item_category_id_nunique'] > 1)"
   ]
  },
  {
   "cell_type": "code",
   "execution_count": 7,
   "id": "f813e67f",
   "metadata": {},
   "outputs": [
    {
     "data": {
      "text/html": [
       "<div>\n",
       "<style scoped>\n",
       "    .dataframe tbody tr th:only-of-type {\n",
       "        vertical-align: middle;\n",
       "    }\n",
       "\n",
       "    .dataframe tbody tr th {\n",
       "        vertical-align: top;\n",
       "    }\n",
       "\n",
       "    .dataframe thead th {\n",
       "        text-align: right;\n",
       "    }\n",
       "</style>\n",
       "<table border=\"1\" class=\"dataframe\">\n",
       "  <thead>\n",
       "    <tr style=\"text-align: right;\">\n",
       "      <th></th>\n",
       "      <th>item_id</th>\n",
       "      <th>item_price_count</th>\n",
       "      <th>item_price_mean</th>\n",
       "      <th>item_price_std</th>\n",
       "      <th>item_category_id_nunique</th>\n",
       "      <th>shop_id_nunique</th>\n",
       "    </tr>\n",
       "  </thead>\n",
       "  <tbody>\n",
       "    <tr>\n",
       "      <th>27</th>\n",
       "      <td>27</td>\n",
       "      <td>42</td>\n",
       "      <td>1461.228516</td>\n",
       "      <td>609.841595</td>\n",
       "      <td>1</td>\n",
       "      <td>27</td>\n",
       "    </tr>\n",
       "    <tr>\n",
       "      <th>29</th>\n",
       "      <td>29</td>\n",
       "      <td>14</td>\n",
       "      <td>1759.285767</td>\n",
       "      <td>612.603954</td>\n",
       "      <td>1</td>\n",
       "      <td>11</td>\n",
       "    </tr>\n",
       "    <tr>\n",
       "      <th>39</th>\n",
       "      <td>39</td>\n",
       "      <td>7</td>\n",
       "      <td>5813.285645</td>\n",
       "      <td>536.745040</td>\n",
       "      <td>1</td>\n",
       "      <td>7</td>\n",
       "    </tr>\n",
       "    <tr>\n",
       "      <th>102</th>\n",
       "      <td>103</td>\n",
       "      <td>2</td>\n",
       "      <td>13900.000000</td>\n",
       "      <td>1414.213562</td>\n",
       "      <td>1</td>\n",
       "      <td>1</td>\n",
       "    </tr>\n",
       "    <tr>\n",
       "      <th>462</th>\n",
       "      <td>475</td>\n",
       "      <td>18</td>\n",
       "      <td>29200.000000</td>\n",
       "      <td>3925.332507</td>\n",
       "      <td>1</td>\n",
       "      <td>2</td>\n",
       "    </tr>\n",
       "    <tr>\n",
       "      <th>...</th>\n",
       "      <td>...</td>\n",
       "      <td>...</td>\n",
       "      <td>...</td>\n",
       "      <td>...</td>\n",
       "      <td>...</td>\n",
       "      <td>...</td>\n",
       "    </tr>\n",
       "    <tr>\n",
       "      <th>20496</th>\n",
       "      <td>20835</td>\n",
       "      <td>2</td>\n",
       "      <td>14249.500000</td>\n",
       "      <td>1059.953065</td>\n",
       "      <td>1</td>\n",
       "      <td>2</td>\n",
       "    </tr>\n",
       "    <tr>\n",
       "      <th>20503</th>\n",
       "      <td>20846</td>\n",
       "      <td>7</td>\n",
       "      <td>4677.571289</td>\n",
       "      <td>1274.054271</td>\n",
       "      <td>1</td>\n",
       "      <td>4</td>\n",
       "    </tr>\n",
       "    <tr>\n",
       "      <th>21003</th>\n",
       "      <td>21353</td>\n",
       "      <td>77</td>\n",
       "      <td>5636.142578</td>\n",
       "      <td>742.552475</td>\n",
       "      <td>1</td>\n",
       "      <td>31</td>\n",
       "    </tr>\n",
       "    <tr>\n",
       "      <th>21076</th>\n",
       "      <td>21428</td>\n",
       "      <td>78</td>\n",
       "      <td>1983.525635</td>\n",
       "      <td>513.607656</td>\n",
       "      <td>1</td>\n",
       "      <td>29</td>\n",
       "    </tr>\n",
       "    <tr>\n",
       "      <th>21634</th>\n",
       "      <td>21994</td>\n",
       "      <td>241</td>\n",
       "      <td>5725.498047</td>\n",
       "      <td>757.059909</td>\n",
       "      <td>1</td>\n",
       "      <td>40</td>\n",
       "    </tr>\n",
       "  </tbody>\n",
       "</table>\n",
       "<p>581 rows × 6 columns</p>\n",
       "</div>"
      ],
      "text/plain": [
       "       item_id  item_price_count  item_price_mean  item_price_std  \\\n",
       "27          27                42      1461.228516      609.841595   \n",
       "29          29                14      1759.285767      612.603954   \n",
       "39          39                 7      5813.285645      536.745040   \n",
       "102        103                 2     13900.000000     1414.213562   \n",
       "462        475                18     29200.000000     3925.332507   \n",
       "...        ...               ...              ...             ...   \n",
       "20496    20835                 2     14249.500000     1059.953065   \n",
       "20503    20846                 7      4677.571289     1274.054271   \n",
       "21003    21353                77      5636.142578      742.552475   \n",
       "21076    21428                78      1983.525635      513.607656   \n",
       "21634    21994               241      5725.498047      757.059909   \n",
       "\n",
       "       item_category_id_nunique  shop_id_nunique  \n",
       "27                            1               27  \n",
       "29                            1               11  \n",
       "39                            1                7  \n",
       "102                           1                1  \n",
       "462                           1                2  \n",
       "...                         ...              ...  \n",
       "20496                         1                2  \n",
       "20503                         1                4  \n",
       "21003                         1               31  \n",
       "21076                         1               29  \n",
       "21634                         1               40  \n",
       "\n",
       "[581 rows x 6 columns]"
      ]
     },
     "execution_count": 7,
     "metadata": {},
     "output_type": "execute_result"
    }
   ],
   "source": [
    "item_agg[item_agg['item_price_std']>500]"
   ]
  },
  {
   "cell_type": "code",
   "execution_count": 8,
   "id": "a23dfa70",
   "metadata": {},
   "outputs": [
    {
     "data": {
      "text/plain": [
       "(5100, 363, 0.0711764705882353)"
      ]
     },
     "execution_count": 8,
     "metadata": {},
     "output_type": "execute_result"
    }
   ],
   "source": [
    "num_item_in_test = len(test['item_id'].unique())\n",
    "num_item_not_in_train = len(set(test['item_id']).difference(set(train['item_id'].unique())))\n",
    "num_item_in_test, num_item_not_in_train, num_item_not_in_train/num_item_in_test"
   ]
  },
  {
   "cell_type": "code",
   "execution_count": 9,
   "id": "4ace6cea",
   "metadata": {},
   "outputs": [
    {
     "data": {
      "text/plain": [
       "(42, 0, 0.0)"
      ]
     },
     "execution_count": 9,
     "metadata": {},
     "output_type": "execute_result"
    }
   ],
   "source": [
    "num_shop_in_test = len(test['shop_id'].unique())\n",
    "num_shop_not_in_train = len(set(test['shop_id']).difference(set(train['shop_id'].unique())))\n",
    "num_shop_in_test, num_shop_not_in_train, num_shop_not_in_train/num_shop_in_test"
   ]
  },
  {
   "cell_type": "markdown",
   "id": "38eae502",
   "metadata": {},
   "source": [
    "### Notes\n",
    "- all shops in test set exist in train set\n",
    "- ~7% of items in test set but no in train set"
   ]
  },
  {
   "cell_type": "code",
   "execution_count": 10,
   "id": "7f158d3a",
   "metadata": {},
   "outputs": [
    {
     "data": {
      "text/plain": [
       "-1     7252\n",
       "-2       78\n",
       "-3       14\n",
       "-5        4\n",
       "-4        3\n",
       "-6        2\n",
       "-22       1\n",
       "-16       1\n",
       "-9        1\n",
       "Name: item_cnt_day, dtype: int64"
      ]
     },
     "execution_count": 10,
     "metadata": {},
     "output_type": "execute_result"
    }
   ],
   "source": [
    "train[train['item_cnt_day'] <= 0]['item_cnt_day'].value_counts()"
   ]
  },
  {
   "cell_type": "code",
   "execution_count": 11,
   "id": "b64c2898",
   "metadata": {},
   "outputs": [
    {
     "data": {
      "text/plain": [
       "0.0025055784544777337"
      ]
     },
     "execution_count": 11,
     "metadata": {},
     "output_type": "execute_result"
    }
   ],
   "source": [
    "train[train['item_cnt_day'] <= 0].shape[0]/train.shape[0]"
   ]
  },
  {
   "cell_type": "markdown",
   "id": "b08eaf86",
   "metadata": {},
   "source": [
    "### Notes\n",
    "It's weird that number of sold is negative, 0.2% of data have nagative sold. Try to handle in some methods:\n",
    "- ignore negative value, remove from train set\n",
    "- maybe it is number of return\n",
    "    - treat as normal sold\n",
    "    - create new feature for number of return "
   ]
  },
  {
   "cell_type": "code",
   "execution_count": 12,
   "id": "a6230862",
   "metadata": {},
   "outputs": [],
   "source": [
    "def get_month(x):\n",
    "    arr_tokens = x.split('.')\n",
    "    month = int(arr_tokens[2] + arr_tokens[1])\n",
    "    return month\n",
    "\n",
    "train['month'] = train['date'].apply(get_month)\n",
    "\n",
    "agg_dict = {\n",
    "    'item_price': ['mean'],\n",
    "    'item_cnt_day': ['sum', 'count']\n",
    "}\n",
    "\n",
    "month_data = train.groupby(by=['month', 'shop_id', 'item_id']).agg(agg_dict)\n",
    "month_data.columns = ['_'.join(col) for col in month_data.columns]\n",
    "month_data = month_data.reset_index()\n",
    "month_data = month_data.rename(columns={\n",
    "    'item_cnt_day_sum': 'item_cnt_month',\n",
    "    'item_cnt_day_count': 'sold_date_count'\n",
    "})\n",
    "month_data = month_data.sort_values(by=['shop_id', 'month'], ascending=True)\n",
    "month_data = month_data.merge(items, how='left', on='item_id')\n",
    "month_data['revenue'] = month_data['item_cnt_month'] * month_data['item_price_mean']"
   ]
  },
  {
   "cell_type": "code",
   "execution_count": 13,
   "id": "d0dcb6fb",
   "metadata": {},
   "outputs": [
    {
     "data": {
      "text/plain": [
       "(array([201301, 201302, 201303, 201304, 201305, 201306, 201307, 201308,\n",
       "        201309, 201310, 201311, 201312, 201401, 201402, 201403, 201404,\n",
       "        201405, 201406, 201407, 201408, 201409, 201410, 201411, 201412,\n",
       "        201501, 201502, 201503, 201504, 201505, 201506, 201507, 201508,\n",
       "        201509, 201510]),\n",
       " 34)"
      ]
     },
     "execution_count": 13,
     "metadata": {},
     "output_type": "execute_result"
    }
   ],
   "source": [
    "month_data['month'].unique(), len(month_data['month'].unique())"
   ]
  },
  {
   "cell_type": "code",
   "execution_count": 14,
   "id": "735a1188",
   "metadata": {},
   "outputs": [
    {
     "data": {
      "text/plain": [
       "(array([ 0,  1,  2,  3,  4,  5,  6,  7,  8,  9, 10, 11, 12, 13, 14, 15, 16,\n",
       "        17, 18, 19, 20, 21, 22, 23, 24, 25, 26, 27, 28, 29, 30, 31, 32, 33,\n",
       "        34, 35, 36, 37, 38, 39, 40, 41, 42, 43, 44, 45, 46, 47, 48, 49, 50,\n",
       "        51, 52, 53, 54, 55, 56, 57, 58, 59]),\n",
       " 60)"
      ]
     },
     "execution_count": 14,
     "metadata": {},
     "output_type": "execute_result"
    }
   ],
   "source": [
    "month_data['shop_id'].unique(), len(month_data['shop_id'].unique())"
   ]
  },
  {
   "cell_type": "markdown",
   "id": "bd0eaeb3",
   "metadata": {},
   "source": [
    "### Extract feature"
   ]
  },
  {
   "cell_type": "code",
   "execution_count": 15,
   "id": "65934eac",
   "metadata": {},
   "outputs": [],
   "source": [
    "# Extract data with a item_price greater than 0\n",
    "train = train[train['item_price'] > 0]\n",
    "# Extract data with a item_priceof less than 50,000\n",
    "train = train[train['item_price'] < 50000]\n",
    "# Extract data with item_cnt_day greater than 0\n",
    "train = train[train['item_cnt_day'] > 0]\n",
    "# Extract data with item_cnt_day less than 1,000\n",
    "train = train[train['item_cnt_day'] < 1000]"
   ]
  },
  {
   "cell_type": "markdown",
   "id": "beb05509",
   "metadata": {},
   "source": [
    "#### Shop month feature"
   ]
  },
  {
   "cell_type": "code",
   "execution_count": 16,
   "id": "5c38b286",
   "metadata": {},
   "outputs": [],
   "source": [
    "shop_month_data = month_data.groupby(by=['shop_id', 'month']).agg({\n",
    "    'item_id': ['nunique'],\n",
    "    'item_category_id': ['nunique'],\n",
    "    'revenue': ['sum'],\n",
    "    'item_cnt_month': ['sum', 'mean', 'std'],\n",
    "    'sold_date_count': ['sum', 'std']\n",
    "})\n",
    "\n",
    "shop_month_data.columns = ['shop_' + '_'.join(col) for col in shop_month_data.columns]\n",
    "shop_month_data = shop_month_data.reset_index()"
   ]
  },
  {
   "cell_type": "code",
   "execution_count": 17,
   "id": "eedebb7b",
   "metadata": {},
   "outputs": [
    {
     "data": {
      "text/plain": [
       "Index(['shop_id', 'month', 'shop_item_id_nunique',\n",
       "       'shop_item_category_id_nunique', 'shop_revenue_sum',\n",
       "       'shop_item_cnt_month_sum', 'shop_item_cnt_month_mean',\n",
       "       'shop_item_cnt_month_std', 'shop_sold_date_count_sum',\n",
       "       'shop_sold_date_count_std'],\n",
       "      dtype='object')"
      ]
     },
     "execution_count": 17,
     "metadata": {},
     "output_type": "execute_result"
    }
   ],
   "source": [
    "shop_month_data.columns"
   ]
  },
  {
   "cell_type": "code",
   "execution_count": 18,
   "id": "b669641b",
   "metadata": {},
   "outputs": [
    {
     "data": {
      "text/plain": [
       "2040"
      ]
     },
     "execution_count": 18,
     "metadata": {},
     "output_type": "execute_result"
    }
   ],
   "source": [
    "len(shop_month_data['shop_id'].unique()) * len(shop_month_data['month'].unique())"
   ]
  },
  {
   "cell_type": "code",
   "execution_count": 19,
   "id": "50f4eddc",
   "metadata": {},
   "outputs": [
    {
     "data": {
      "text/plain": [
       "80"
      ]
     },
     "execution_count": 19,
     "metadata": {},
     "output_type": "execute_result"
    }
   ],
   "source": [
    "list_shop_ids = list(shop_month_data['shop_id'].unique())\n",
    "list_month = list(shop_month_data['month'].unique())\n",
    "shop_month_combination = list(itertools.product(*[list_shop_ids, list_month]))\n",
    "\n",
    "full_shop_month_data = pd.DataFrame(shop_month_combination)\n",
    "full_shop_month_data.columns = ['shop_id', 'month']\n",
    "\n",
    "del(list_shop_ids, list_month, shop_month_combination)\n",
    "gc.collect()"
   ]
  },
  {
   "cell_type": "code",
   "execution_count": 20,
   "id": "58a25ae3",
   "metadata": {},
   "outputs": [
    {
     "data": {
      "text/plain": [
       "0"
      ]
     },
     "execution_count": 20,
     "metadata": {},
     "output_type": "execute_result"
    }
   ],
   "source": [
    "full_shop_month_data = full_shop_month_data.merge(shop_month_data, how='left', on=['shop_id', 'month'])\n",
    "full_shop_month_data = full_shop_month_data.sort_values(by=['shop_id', 'month'], ascending=True)\n",
    "full_shop_month_data['shop_revenue_sum'] = full_shop_month_data['shop_revenue_sum'].fillna(0)\n",
    "\n",
    "del(shop_month_data)\n",
    "gc.collect()"
   ]
  },
  {
   "cell_type": "code",
   "execution_count": 21,
   "id": "0487d304",
   "metadata": {},
   "outputs": [
    {
     "data": {
      "application/vnd.jupyter.widget-view+json": {
       "model_id": "66efe0896a3140f7b5bb5f4ecc6e8a7e",
       "version_major": 2,
       "version_minor": 0
      },
      "text/plain": [
       "  0%|          | 0/60 [00:00<?, ?it/s]"
      ]
     },
     "metadata": {},
     "output_type": "display_data"
    },
    {
     "data": {
      "application/vnd.jupyter.widget-view+json": {
       "model_id": "8c4284a7aa2b4a67a81f3f48a9e115e2",
       "version_major": 2,
       "version_minor": 0
      },
      "text/plain": [
       "  0%|          | 0/60 [00:00<?, ?it/s]"
      ]
     },
     "metadata": {},
     "output_type": "display_data"
    },
    {
     "data": {
      "application/vnd.jupyter.widget-view+json": {
       "model_id": "e278bd59de514363b35355f6577cbc7f",
       "version_major": 2,
       "version_minor": 0
      },
      "text/plain": [
       "  0%|          | 0/60 [00:00<?, ?it/s]"
      ]
     },
     "metadata": {},
     "output_type": "display_data"
    }
   ],
   "source": [
    "full_shop_month_data['shop_revenue_sum_3_month'] = full_shop_month_data.groupby(by='shop_id')['shop_revenue_sum'].progress_apply(lambda x: \n",
    "         x        \n",
    "        .rolling(window=3, min_periods=3)\n",
    "        .agg('sum')\n",
    ")\n",
    "\n",
    "full_shop_month_data['shop_revenue_sum_6_month'] = full_shop_month_data.groupby(by='shop_id')['shop_revenue_sum'].progress_apply(lambda x: \n",
    "         x        \n",
    "        .rolling(window=6, min_periods=6)\n",
    "        .agg('sum')\n",
    ")\n",
    "full_shop_month_data['shop_revenue_sum_12_month'] = full_shop_month_data.groupby(by='shop_id')['shop_revenue_sum'].progress_apply(lambda x: \n",
    "         x        \n",
    "        .rolling(window=12, min_periods=12)\n",
    "        .agg('sum')\n",
    ")"
   ]
  },
  {
   "cell_type": "code",
   "execution_count": 22,
   "id": "88e3a162",
   "metadata": {},
   "outputs": [
    {
     "data": {
      "text/html": [
       "<div>\n",
       "<style scoped>\n",
       "    .dataframe tbody tr th:only-of-type {\n",
       "        vertical-align: middle;\n",
       "    }\n",
       "\n",
       "    .dataframe tbody tr th {\n",
       "        vertical-align: top;\n",
       "    }\n",
       "\n",
       "    .dataframe thead th {\n",
       "        text-align: right;\n",
       "    }\n",
       "</style>\n",
       "<table border=\"1\" class=\"dataframe\">\n",
       "  <thead>\n",
       "    <tr style=\"text-align: right;\">\n",
       "      <th></th>\n",
       "      <th>shop_id</th>\n",
       "      <th>month</th>\n",
       "      <th>shop_item_id_nunique</th>\n",
       "      <th>shop_item_category_id_nunique</th>\n",
       "      <th>shop_revenue_sum</th>\n",
       "      <th>shop_item_cnt_month_sum</th>\n",
       "      <th>shop_item_cnt_month_mean</th>\n",
       "      <th>shop_item_cnt_month_std</th>\n",
       "      <th>shop_sold_date_count_sum</th>\n",
       "      <th>shop_sold_date_count_std</th>\n",
       "      <th>shop_revenue_sum_3_month</th>\n",
       "      <th>shop_revenue_sum_6_month</th>\n",
       "      <th>shop_revenue_sum_12_month</th>\n",
       "    </tr>\n",
       "  </thead>\n",
       "  <tbody>\n",
       "    <tr>\n",
       "      <th>0</th>\n",
       "      <td>0</td>\n",
       "      <td>201301</td>\n",
       "      <td>2385.0</td>\n",
       "      <td>45.0</td>\n",
       "      <td>2.966061e+06</td>\n",
       "      <td>5578.0</td>\n",
       "      <td>2.338784</td>\n",
       "      <td>3.440424</td>\n",
       "      <td>4793.0</td>\n",
       "      <td>2.158056</td>\n",
       "      <td>NaN</td>\n",
       "      <td>NaN</td>\n",
       "      <td>NaN</td>\n",
       "    </tr>\n",
       "    <tr>\n",
       "      <th>1</th>\n",
       "      <td>0</td>\n",
       "      <td>201302</td>\n",
       "      <td>2436.0</td>\n",
       "      <td>48.0</td>\n",
       "      <td>3.670881e+06</td>\n",
       "      <td>6127.0</td>\n",
       "      <td>2.515189</td>\n",
       "      <td>4.210208</td>\n",
       "      <td>5064.0</td>\n",
       "      <td>2.303187</td>\n",
       "      <td>NaN</td>\n",
       "      <td>NaN</td>\n",
       "      <td>NaN</td>\n",
       "    </tr>\n",
       "    <tr>\n",
       "      <th>2</th>\n",
       "      <td>0</td>\n",
       "      <td>201303</td>\n",
       "      <td>NaN</td>\n",
       "      <td>NaN</td>\n",
       "      <td>0.000000e+00</td>\n",
       "      <td>NaN</td>\n",
       "      <td>NaN</td>\n",
       "      <td>NaN</td>\n",
       "      <td>NaN</td>\n",
       "      <td>NaN</td>\n",
       "      <td>6.636942e+06</td>\n",
       "      <td>NaN</td>\n",
       "      <td>NaN</td>\n",
       "    </tr>\n",
       "    <tr>\n",
       "      <th>3</th>\n",
       "      <td>0</td>\n",
       "      <td>201304</td>\n",
       "      <td>NaN</td>\n",
       "      <td>NaN</td>\n",
       "      <td>0.000000e+00</td>\n",
       "      <td>NaN</td>\n",
       "      <td>NaN</td>\n",
       "      <td>NaN</td>\n",
       "      <td>NaN</td>\n",
       "      <td>NaN</td>\n",
       "      <td>3.670881e+06</td>\n",
       "      <td>NaN</td>\n",
       "      <td>NaN</td>\n",
       "    </tr>\n",
       "    <tr>\n",
       "      <th>4</th>\n",
       "      <td>0</td>\n",
       "      <td>201305</td>\n",
       "      <td>NaN</td>\n",
       "      <td>NaN</td>\n",
       "      <td>0.000000e+00</td>\n",
       "      <td>NaN</td>\n",
       "      <td>NaN</td>\n",
       "      <td>NaN</td>\n",
       "      <td>NaN</td>\n",
       "      <td>NaN</td>\n",
       "      <td>0.000000e+00</td>\n",
       "      <td>NaN</td>\n",
       "      <td>NaN</td>\n",
       "    </tr>\n",
       "    <tr>\n",
       "      <th>...</th>\n",
       "      <td>...</td>\n",
       "      <td>...</td>\n",
       "      <td>...</td>\n",
       "      <td>...</td>\n",
       "      <td>...</td>\n",
       "      <td>...</td>\n",
       "      <td>...</td>\n",
       "      <td>...</td>\n",
       "      <td>...</td>\n",
       "      <td>...</td>\n",
       "      <td>...</td>\n",
       "      <td>...</td>\n",
       "      <td>...</td>\n",
       "    </tr>\n",
       "    <tr>\n",
       "      <th>2035</th>\n",
       "      <td>59</td>\n",
       "      <td>201506</td>\n",
       "      <td>543.0</td>\n",
       "      <td>43.0</td>\n",
       "      <td>8.635125e+05</td>\n",
       "      <td>913.0</td>\n",
       "      <td>1.681400</td>\n",
       "      <td>2.017398</td>\n",
       "      <td>836.0</td>\n",
       "      <td>1.341158</td>\n",
       "      <td>2.938025e+06</td>\n",
       "      <td>6.459744e+06</td>\n",
       "      <td>1.641034e+07</td>\n",
       "    </tr>\n",
       "    <tr>\n",
       "      <th>2036</th>\n",
       "      <td>59</td>\n",
       "      <td>201507</td>\n",
       "      <td>591.0</td>\n",
       "      <td>41.0</td>\n",
       "      <td>8.591119e+05</td>\n",
       "      <td>992.0</td>\n",
       "      <td>1.678511</td>\n",
       "      <td>2.013058</td>\n",
       "      <td>916.0</td>\n",
       "      <td>1.336754</td>\n",
       "      <td>2.748046e+06</td>\n",
       "      <td>5.976850e+06</td>\n",
       "      <td>1.635914e+07</td>\n",
       "    </tr>\n",
       "    <tr>\n",
       "      <th>2037</th>\n",
       "      <td>59</td>\n",
       "      <td>201508</td>\n",
       "      <td>593.0</td>\n",
       "      <td>44.0</td>\n",
       "      <td>1.022714e+06</td>\n",
       "      <td>1214.0</td>\n",
       "      <td>2.047218</td>\n",
       "      <td>4.787138</td>\n",
       "      <td>973.0</td>\n",
       "      <td>1.531478</td>\n",
       "      <td>2.745338e+06</td>\n",
       "      <td>5.836747e+06</td>\n",
       "      <td>1.618741e+07</td>\n",
       "    </tr>\n",
       "    <tr>\n",
       "      <th>2038</th>\n",
       "      <td>59</td>\n",
       "      <td>201509</td>\n",
       "      <td>491.0</td>\n",
       "      <td>42.0</td>\n",
       "      <td>1.103781e+06</td>\n",
       "      <td>914.0</td>\n",
       "      <td>1.861507</td>\n",
       "      <td>2.276133</td>\n",
       "      <td>778.0</td>\n",
       "      <td>1.393309</td>\n",
       "      <td>2.985607e+06</td>\n",
       "      <td>5.923632e+06</td>\n",
       "      <td>1.571920e+07</td>\n",
       "    </tr>\n",
       "    <tr>\n",
       "      <th>2039</th>\n",
       "      <td>59</td>\n",
       "      <td>201510</td>\n",
       "      <td>500.0</td>\n",
       "      <td>42.0</td>\n",
       "      <td>9.726423e+05</td>\n",
       "      <td>790.0</td>\n",
       "      <td>1.580000</td>\n",
       "      <td>1.756636</td>\n",
       "      <td>729.0</td>\n",
       "      <td>1.184501</td>\n",
       "      <td>3.099138e+06</td>\n",
       "      <td>5.847184e+06</td>\n",
       "      <td>1.530553e+07</td>\n",
       "    </tr>\n",
       "  </tbody>\n",
       "</table>\n",
       "<p>2040 rows × 13 columns</p>\n",
       "</div>"
      ],
      "text/plain": [
       "      shop_id   month  shop_item_id_nunique  shop_item_category_id_nunique  \\\n",
       "0           0  201301                2385.0                           45.0   \n",
       "1           0  201302                2436.0                           48.0   \n",
       "2           0  201303                   NaN                            NaN   \n",
       "3           0  201304                   NaN                            NaN   \n",
       "4           0  201305                   NaN                            NaN   \n",
       "...       ...     ...                   ...                            ...   \n",
       "2035       59  201506                 543.0                           43.0   \n",
       "2036       59  201507                 591.0                           41.0   \n",
       "2037       59  201508                 593.0                           44.0   \n",
       "2038       59  201509                 491.0                           42.0   \n",
       "2039       59  201510                 500.0                           42.0   \n",
       "\n",
       "      shop_revenue_sum  shop_item_cnt_month_sum  shop_item_cnt_month_mean  \\\n",
       "0         2.966061e+06                   5578.0                  2.338784   \n",
       "1         3.670881e+06                   6127.0                  2.515189   \n",
       "2         0.000000e+00                      NaN                       NaN   \n",
       "3         0.000000e+00                      NaN                       NaN   \n",
       "4         0.000000e+00                      NaN                       NaN   \n",
       "...                ...                      ...                       ...   \n",
       "2035      8.635125e+05                    913.0                  1.681400   \n",
       "2036      8.591119e+05                    992.0                  1.678511   \n",
       "2037      1.022714e+06                   1214.0                  2.047218   \n",
       "2038      1.103781e+06                    914.0                  1.861507   \n",
       "2039      9.726423e+05                    790.0                  1.580000   \n",
       "\n",
       "      shop_item_cnt_month_std  shop_sold_date_count_sum  \\\n",
       "0                    3.440424                    4793.0   \n",
       "1                    4.210208                    5064.0   \n",
       "2                         NaN                       NaN   \n",
       "3                         NaN                       NaN   \n",
       "4                         NaN                       NaN   \n",
       "...                       ...                       ...   \n",
       "2035                 2.017398                     836.0   \n",
       "2036                 2.013058                     916.0   \n",
       "2037                 4.787138                     973.0   \n",
       "2038                 2.276133                     778.0   \n",
       "2039                 1.756636                     729.0   \n",
       "\n",
       "      shop_sold_date_count_std  shop_revenue_sum_3_month  \\\n",
       "0                     2.158056                       NaN   \n",
       "1                     2.303187                       NaN   \n",
       "2                          NaN              6.636942e+06   \n",
       "3                          NaN              3.670881e+06   \n",
       "4                          NaN              0.000000e+00   \n",
       "...                        ...                       ...   \n",
       "2035                  1.341158              2.938025e+06   \n",
       "2036                  1.336754              2.748046e+06   \n",
       "2037                  1.531478              2.745338e+06   \n",
       "2038                  1.393309              2.985607e+06   \n",
       "2039                  1.184501              3.099138e+06   \n",
       "\n",
       "      shop_revenue_sum_6_month  shop_revenue_sum_12_month  \n",
       "0                          NaN                        NaN  \n",
       "1                          NaN                        NaN  \n",
       "2                          NaN                        NaN  \n",
       "3                          NaN                        NaN  \n",
       "4                          NaN                        NaN  \n",
       "...                        ...                        ...  \n",
       "2035              6.459744e+06               1.641034e+07  \n",
       "2036              5.976850e+06               1.635914e+07  \n",
       "2037              5.836747e+06               1.618741e+07  \n",
       "2038              5.923632e+06               1.571920e+07  \n",
       "2039              5.847184e+06               1.530553e+07  \n",
       "\n",
       "[2040 rows x 13 columns]"
      ]
     },
     "execution_count": 22,
     "metadata": {},
     "output_type": "execute_result"
    }
   ],
   "source": [
    "full_shop_month_data"
   ]
  },
  {
   "cell_type": "code",
   "execution_count": 23,
   "id": "38935e77",
   "metadata": {},
   "outputs": [
    {
     "name": "stdout",
     "output_type": "stream",
     "text": [
      "47.2% compressed\n"
     ]
    }
   ],
   "source": [
    "full_shop_month_data = downcast(full_shop_month_data)"
   ]
  },
  {
   "cell_type": "markdown",
   "id": "d3fa29f0",
   "metadata": {},
   "source": [
    "#### Item month feature"
   ]
  },
  {
   "cell_type": "code",
   "execution_count": 24,
   "id": "e6c9cab0",
   "metadata": {},
   "outputs": [],
   "source": [
    "item_month_data = month_data.groupby(by=['item_id', 'month']).agg({\n",
    "    'shop_id': ['nunique'],\n",
    "    'revenue': ['sum'],\n",
    "    'item_cnt_month': ['sum', 'mean', 'std'],\n",
    "    'sold_date_count': ['sum', 'std']\n",
    "})\n",
    "\n",
    "item_month_data.columns = ['item_' + '_'.join(col) for col in item_month_data.columns]\n",
    "item_month_data = item_month_data.reset_index()"
   ]
  },
  {
   "cell_type": "code",
   "execution_count": 25,
   "id": "9d8a8728",
   "metadata": {},
   "outputs": [
    {
     "name": "stdout",
     "output_type": "stream",
     "text": [
      "56.5% compressed\n"
     ]
    }
   ],
   "source": [
    "item_month_data = downcast(item_month_data)"
   ]
  },
  {
   "cell_type": "markdown",
   "id": "24efc0cb",
   "metadata": {},
   "source": [
    "#### Category month feature"
   ]
  },
  {
   "cell_type": "code",
   "execution_count": 26,
   "id": "ee069d57",
   "metadata": {},
   "outputs": [],
   "source": [
    "category_month_data = month_data.groupby(by=['item_category_id', 'month']).agg({\n",
    "    'shop_id': ['nunique'],\n",
    "    'item_id': ['nunique'],    \n",
    "    'revenue': ['sum'],\n",
    "    'item_cnt_month': ['sum', 'mean', 'std'],\n",
    "    'sold_date_count': ['sum', 'std']\n",
    "})\n",
    "\n",
    "category_month_data.columns = ['category_' + '_'.join(col) for col in category_month_data.columns]\n",
    "category_month_data = category_month_data.reset_index()"
   ]
  },
  {
   "cell_type": "code",
   "execution_count": 27,
   "id": "332836e2",
   "metadata": {},
   "outputs": [
    {
     "name": "stdout",
     "output_type": "stream",
     "text": [
      "60.5% compressed\n"
     ]
    }
   ],
   "source": [
    "category_month_data = downcast(category_month_data)"
   ]
  },
  {
   "cell_type": "markdown",
   "id": "a1b3d78f",
   "metadata": {},
   "source": [
    "#### item shop month feature"
   ]
  },
  {
   "cell_type": "code",
   "execution_count": 28,
   "id": "5448a6c2",
   "metadata": {},
   "outputs": [
    {
     "name": "stdout",
     "output_type": "stream",
     "text": [
      "53.1% compressed\n"
     ]
    },
    {
     "data": {
      "text/plain": [
       "13"
      ]
     },
     "execution_count": 28,
     "metadata": {},
     "output_type": "execute_result"
    }
   ],
   "source": [
    "list_shop_ids = list(month_data['shop_id'].unique())\n",
    "list_item_ids = list(month_data['item_id'].unique())\n",
    "list_month = list(month_data['month'].unique())\n",
    "shop_item_month_combination = list(itertools.product(*[list_shop_ids, list_item_ids, list_month]))\n",
    "full_shop_item_month_data = pd.DataFrame(shop_item_month_combination)\n",
    "full_shop_item_month_data.columns = ['shop_id', 'item_id', 'month']\n",
    "\n",
    "\n",
    "full_shop_item_month_data = full_shop_item_month_data.merge(month_data, how='left', on=['shop_id', 'item_id', 'month'])\n",
    "full_shop_item_month_data['sold_date_count'] = full_shop_item_month_data['sold_date_count'].fillna(0)\n",
    "full_shop_item_month_data['item_cnt_month'] = full_shop_item_month_data['item_cnt_month'].fillna(0)\n",
    "full_shop_item_month_data['item_cnt_month'] = full_shop_item_month_data['item_cnt_month'].astype(int)\n",
    "\n",
    "\n",
    "full_shop_item_month_data = downcast(full_shop_item_month_data)\n",
    "del(list_shop_ids, list_item_ids, list_month, shop_item_month_combination)\n",
    "# del(month_data)\n",
    "gc.collect()"
   ]
  },
  {
   "cell_type": "code",
   "execution_count": 29,
   "id": "22cf6571",
   "metadata": {},
   "outputs": [
    {
     "data": {
      "application/vnd.jupyter.widget-view+json": {
       "model_id": "03f53e9c04254fa0b75b9911ce43fd4a",
       "version_major": 2,
       "version_minor": 0
      },
      "text/plain": [
       "  0%|          | 0/1308420 [00:00<?, ?it/s]"
      ]
     },
     "metadata": {},
     "output_type": "display_data"
    }
   ],
   "source": [
    "full_shop_item_month_data['item_cnt_sum_3_month'] = full_shop_item_month_data.groupby(by=['shop_id', 'item_id'])['item_cnt_month'].progress_apply(lambda x: \n",
    "         x        \n",
    "        .rolling(window=3, min_periods=3)\n",
    "        .agg('sum')\n",
    ")\n",
    "\n",
    "# full_shop_item_month_data['item_cnt_sum_6_month'] = full_shop_item_month_data.groupby(by=['shop_id', 'item_id'])['item_cnt_month'].progress_apply(lambda x: \n",
    "#          x        \n",
    "#         .rolling(window=6, min_periods=6)\n",
    "#         .agg('sum')\n",
    "# )\n",
    "\n",
    "# full_shop_item_month_data['item_cnt_sum_12_month'] = full_shop_item_month_data.groupby(by=['shop_id', 'item_id'])['item_cnt_month'].progress_apply(lambda x: \n",
    "#          x        \n",
    "#         .rolling(window=12, min_periods=12)\n",
    "#         .agg('sum')\n",
    "# )"
   ]
  },
  {
   "cell_type": "code",
   "execution_count": 30,
   "id": "a17c8250",
   "metadata": {},
   "outputs": [],
   "source": [
    "full_shop_item_month_data['item_cnt_month_lag_2'] = full_shop_item_month_data.groupby(by=['shop_id', 'item_id'])['item_cnt_month'].shift(1)\n",
    "full_shop_item_month_data['item_cnt_month_lag_3'] = full_shop_item_month_data.groupby(by=['shop_id', 'item_id'])['item_cnt_month'].shift(2)\n",
    "full_shop_item_month_data['item_cnt_month_lag_12'] = full_shop_item_month_data.groupby(by=['shop_id', 'item_id'])['item_cnt_month'].shift(12)"
   ]
  },
  {
   "cell_type": "code",
   "execution_count": 31,
   "id": "c8b3d488",
   "metadata": {},
   "outputs": [
    {
     "name": "stdout",
     "output_type": "stream",
     "text": [
      "25.8% compressed\n"
     ]
    }
   ],
   "source": [
    "full_shop_item_month_data = downcast(full_shop_item_month_data)"
   ]
  },
  {
   "cell_type": "code",
   "execution_count": 32,
   "id": "91a3c221",
   "metadata": {},
   "outputs": [
    {
     "data": {
      "text/plain": [
       "1.9058295488357544"
      ]
     },
     "execution_count": 32,
     "metadata": {},
     "output_type": "execute_result"
    }
   ],
   "source": [
    "sys.getsizeof(full_shop_item_month_data)/2**30"
   ]
  },
  {
   "cell_type": "markdown",
   "id": "57da4ea5",
   "metadata": {},
   "source": [
    "### prepare train data"
   ]
  },
  {
   "cell_type": "code",
   "execution_count": 33,
   "id": "c0802a86",
   "metadata": {},
   "outputs": [],
   "source": [
    "def prev_month(month_year):\n",
    "    year = month_year//100\n",
    "    month = month_year%100\n",
    "    if month == 1:\n",
    "        month = 12\n",
    "        year -= 1\n",
    "    prev_month = year * 100 + month\n",
    "    return prev_month\n",
    "\n",
    "train_data = month_data[['month', 'shop_id', 'item_id', 'item_cnt_month']].copy()\n",
    "train_data = train_data.rename(columns={'month': 'current_month', 'item_cnt_month': 'month_sale'})"
   ]
  },
  {
   "cell_type": "code",
   "execution_count": 34,
   "id": "7263d17d",
   "metadata": {},
   "outputs": [
    {
     "data": {
      "text/plain": [
       "0.03617124200989608"
      ]
     },
     "execution_count": 34,
     "metadata": {},
     "output_type": "execute_result"
    }
   ],
   "source": [
    "list_months = list(train_data['current_month'].unique())\n",
    "list_shop_ids = list(train_data['shop_id'].unique())\n",
    "list_item_ids = list(train_data['item_id'].unique())\n",
    "\n",
    "total_combination = len(list_months) * len(list_shop_ids) * len(list_item_ids)\n",
    "train_data.shape[0]/total_combination"
   ]
  },
  {
   "cell_type": "code",
   "execution_count": 35,
   "id": "e68ad064",
   "metadata": {},
   "outputs": [],
   "source": [
    "have_sale_combination = []\n",
    "for x in train_data[['current_month', 'shop_id', 'item_id']].values:\n",
    "    have_sale_combination.append(tuple(x))\n",
    "\n",
    "have_sale_combination = set(have_sale_combination)\n",
    "\n",
    "all_combination = list(itertools.product(*[list_months, list_shop_ids, list_item_ids]))\n",
    "all_combination = set(all_combination)\n",
    "no_sale_combination = all_combination.difference(have_sale_combination)"
   ]
  },
  {
   "cell_type": "code",
   "execution_count": 36,
   "id": "60f45a05",
   "metadata": {},
   "outputs": [],
   "source": [
    "no_sale_df = pd.DataFrame(no_sale_combination)\n",
    "no_sale_df.columns = ['current_month', 'shop_id', 'item_id']\n",
    "no_sale_df['month_sale'] = 0\n",
    "\n",
    "no_sale_df = no_sale_df.sample(frac=0.1)"
   ]
  },
  {
   "cell_type": "code",
   "execution_count": 37,
   "id": "5b70e430",
   "metadata": {},
   "outputs": [
    {
     "name": "stdout",
     "output_type": "stream",
     "text": [
      "57.5% compressed\n"
     ]
    },
    {
     "data": {
      "text/plain": [
       "18"
      ]
     },
     "execution_count": 37,
     "metadata": {},
     "output_type": "execute_result"
    }
   ],
   "source": [
    "full_train_data = pd.concat([train_data, no_sale_df])\n",
    "full_train_data = downcast(full_train_data)\n",
    "\n",
    "del(no_sale_df, month_data)\n",
    "gc.collect()"
   ]
  },
  {
   "cell_type": "code",
   "execution_count": 38,
   "id": "f6c5b9ef",
   "metadata": {},
   "outputs": [],
   "source": [
    "full_train_data['prev_month'] = full_train_data['current_month'].apply(prev_month)\n",
    "full_train_data['month_of_year'] = full_train_data['current_month'].apply(lambda x: x%100)"
   ]
  },
  {
   "cell_type": "code",
   "execution_count": 39,
   "id": "f93be778",
   "metadata": {},
   "outputs": [
    {
     "name": "stdout",
     "output_type": "stream",
     "text": [
      "32.4% compressed\n"
     ]
    }
   ],
   "source": [
    "full_train_data = full_train_data.merge(items, how='left', on='item_id')\n",
    "full_train_data = downcast(full_train_data)"
   ]
  },
  {
   "cell_type": "code",
   "execution_count": 40,
   "id": "fd92d209",
   "metadata": {},
   "outputs": [
    {
     "name": "stderr",
     "output_type": "stream",
     "text": [
      "/media/phucdk/data/Project/python38_vf/lib/python3.8/site-packages/pandas/core/frame.py:9190: FutureWarning: Passing 'suffixes' which cause duplicate columns {'month_x'} in the result is deprecated and will raise a MergeError in a future version.\n",
      "  return merge(\n"
     ]
    }
   ],
   "source": [
    "def merge_feature(df):\n",
    "    df = df.merge(full_shop_month_data, how='left', left_on=['shop_id', 'prev_month'], right_on=['shop_id', 'month'])\n",
    "    df = df.merge(item_month_data, how='left', left_on=['item_id', 'prev_month'], right_on=['item_id', 'month'])\n",
    "    df = df.merge(category_month_data, how='left', left_on=['item_category_id', 'prev_month'], right_on=['item_category_id', 'month'])\n",
    "    df = df.drop(columns='item_category_id')    \n",
    "    df = df.merge(full_shop_item_month_data, how='left', left_on=['shop_id', 'item_id', 'prev_month'], right_on=['shop_id', 'item_id', 'month'])\n",
    "    return df\n",
    "\n",
    "full_train_data = merge_feature(full_train_data)"
   ]
  },
  {
   "cell_type": "code",
   "execution_count": 41,
   "id": "a31c7a95",
   "metadata": {},
   "outputs": [],
   "source": [
    "# full_train_data = downcast(full_train_data)"
   ]
  },
  {
   "cell_type": "code",
   "execution_count": 42,
   "id": "89d3ddb0",
   "metadata": {},
   "outputs": [
    {
     "data": {
      "text/plain": [
       "Index(['current_month', 'shop_id', 'item_id', 'month_sale', 'prev_month',\n",
       "       'month_of_year', 'month_x', 'shop_item_id_nunique',\n",
       "       'shop_item_category_id_nunique', 'shop_revenue_sum',\n",
       "       'shop_item_cnt_month_sum', 'shop_item_cnt_month_mean',\n",
       "       'shop_item_cnt_month_std', 'shop_sold_date_count_sum',\n",
       "       'shop_sold_date_count_std', 'shop_revenue_sum_3_month',\n",
       "       'shop_revenue_sum_6_month', 'shop_revenue_sum_12_month', 'month_y',\n",
       "       'item_shop_id_nunique', 'item_revenue_sum', 'item_item_cnt_month_sum',\n",
       "       'item_item_cnt_month_mean', 'item_item_cnt_month_std',\n",
       "       'item_sold_date_count_sum', 'item_sold_date_count_std', 'month_x',\n",
       "       'category_shop_id_nunique', 'category_item_id_nunique',\n",
       "       'category_revenue_sum', 'category_item_cnt_month_sum',\n",
       "       'category_item_cnt_month_mean', 'category_item_cnt_month_std',\n",
       "       'category_sold_date_count_sum', 'category_sold_date_count_std',\n",
       "       'month_y', 'item_price_mean', 'item_cnt_month', 'sold_date_count',\n",
       "       'item_category_id', 'revenue', 'item_cnt_sum_3_month',\n",
       "       'item_cnt_month_lag_2', 'item_cnt_month_lag_3',\n",
       "       'item_cnt_month_lag_12'],\n",
       "      dtype='object')"
      ]
     },
     "execution_count": 42,
     "metadata": {},
     "output_type": "execute_result"
    }
   ],
   "source": [
    "full_train_data.columns"
   ]
  },
  {
   "cell_type": "code",
   "execution_count": 43,
   "id": "5f076f7c",
   "metadata": {},
   "outputs": [
    {
     "data": {
      "text/html": [
       "<div>\n",
       "<style scoped>\n",
       "    .dataframe tbody tr th:only-of-type {\n",
       "        vertical-align: middle;\n",
       "    }\n",
       "\n",
       "    .dataframe tbody tr th {\n",
       "        vertical-align: top;\n",
       "    }\n",
       "\n",
       "    .dataframe thead th {\n",
       "        text-align: right;\n",
       "    }\n",
       "</style>\n",
       "<table border=\"1\" class=\"dataframe\">\n",
       "  <thead>\n",
       "    <tr style=\"text-align: right;\">\n",
       "      <th></th>\n",
       "      <th>current_month</th>\n",
       "      <th>shop_id</th>\n",
       "      <th>item_id</th>\n",
       "      <th>month_sale</th>\n",
       "      <th>prev_month</th>\n",
       "      <th>month_of_year</th>\n",
       "      <th>month_x</th>\n",
       "      <th>shop_item_id_nunique</th>\n",
       "      <th>shop_item_category_id_nunique</th>\n",
       "      <th>shop_revenue_sum</th>\n",
       "      <th>...</th>\n",
       "      <th>month_y</th>\n",
       "      <th>item_price_mean</th>\n",
       "      <th>item_cnt_month</th>\n",
       "      <th>sold_date_count</th>\n",
       "      <th>item_category_id</th>\n",
       "      <th>revenue</th>\n",
       "      <th>item_cnt_sum_3_month</th>\n",
       "      <th>item_cnt_month_lag_2</th>\n",
       "      <th>item_cnt_month_lag_3</th>\n",
       "      <th>item_cnt_month_lag_12</th>\n",
       "    </tr>\n",
       "  </thead>\n",
       "  <tbody>\n",
       "    <tr>\n",
       "      <th>0</th>\n",
       "      <td>201301</td>\n",
       "      <td>0</td>\n",
       "      <td>32</td>\n",
       "      <td>6</td>\n",
       "      <td>201212</td>\n",
       "      <td>1</td>\n",
       "      <td>NaN</td>\n",
       "      <td>NaN</td>\n",
       "      <td>NaN</td>\n",
       "      <td>NaN</td>\n",
       "      <td>...</td>\n",
       "      <td>NaN</td>\n",
       "      <td>NaN</td>\n",
       "      <td>NaN</td>\n",
       "      <td>NaN</td>\n",
       "      <td>NaN</td>\n",
       "      <td>NaN</td>\n",
       "      <td>NaN</td>\n",
       "      <td>NaN</td>\n",
       "      <td>NaN</td>\n",
       "      <td>NaN</td>\n",
       "    </tr>\n",
       "    <tr>\n",
       "      <th>1</th>\n",
       "      <td>201301</td>\n",
       "      <td>0</td>\n",
       "      <td>33</td>\n",
       "      <td>3</td>\n",
       "      <td>201212</td>\n",
       "      <td>1</td>\n",
       "      <td>NaN</td>\n",
       "      <td>NaN</td>\n",
       "      <td>NaN</td>\n",
       "      <td>NaN</td>\n",
       "      <td>...</td>\n",
       "      <td>NaN</td>\n",
       "      <td>NaN</td>\n",
       "      <td>NaN</td>\n",
       "      <td>NaN</td>\n",
       "      <td>NaN</td>\n",
       "      <td>NaN</td>\n",
       "      <td>NaN</td>\n",
       "      <td>NaN</td>\n",
       "      <td>NaN</td>\n",
       "      <td>NaN</td>\n",
       "    </tr>\n",
       "    <tr>\n",
       "      <th>2</th>\n",
       "      <td>201301</td>\n",
       "      <td>0</td>\n",
       "      <td>35</td>\n",
       "      <td>1</td>\n",
       "      <td>201212</td>\n",
       "      <td>1</td>\n",
       "      <td>NaN</td>\n",
       "      <td>NaN</td>\n",
       "      <td>NaN</td>\n",
       "      <td>NaN</td>\n",
       "      <td>...</td>\n",
       "      <td>NaN</td>\n",
       "      <td>NaN</td>\n",
       "      <td>NaN</td>\n",
       "      <td>NaN</td>\n",
       "      <td>NaN</td>\n",
       "      <td>NaN</td>\n",
       "      <td>NaN</td>\n",
       "      <td>NaN</td>\n",
       "      <td>NaN</td>\n",
       "      <td>NaN</td>\n",
       "    </tr>\n",
       "    <tr>\n",
       "      <th>3</th>\n",
       "      <td>201301</td>\n",
       "      <td>0</td>\n",
       "      <td>43</td>\n",
       "      <td>1</td>\n",
       "      <td>201212</td>\n",
       "      <td>1</td>\n",
       "      <td>NaN</td>\n",
       "      <td>NaN</td>\n",
       "      <td>NaN</td>\n",
       "      <td>NaN</td>\n",
       "      <td>...</td>\n",
       "      <td>NaN</td>\n",
       "      <td>NaN</td>\n",
       "      <td>NaN</td>\n",
       "      <td>NaN</td>\n",
       "      <td>NaN</td>\n",
       "      <td>NaN</td>\n",
       "      <td>NaN</td>\n",
       "      <td>NaN</td>\n",
       "      <td>NaN</td>\n",
       "      <td>NaN</td>\n",
       "    </tr>\n",
       "    <tr>\n",
       "      <th>4</th>\n",
       "      <td>201301</td>\n",
       "      <td>0</td>\n",
       "      <td>51</td>\n",
       "      <td>2</td>\n",
       "      <td>201212</td>\n",
       "      <td>1</td>\n",
       "      <td>NaN</td>\n",
       "      <td>NaN</td>\n",
       "      <td>NaN</td>\n",
       "      <td>NaN</td>\n",
       "      <td>...</td>\n",
       "      <td>NaN</td>\n",
       "      <td>NaN</td>\n",
       "      <td>NaN</td>\n",
       "      <td>NaN</td>\n",
       "      <td>NaN</td>\n",
       "      <td>NaN</td>\n",
       "      <td>NaN</td>\n",
       "      <td>NaN</td>\n",
       "      <td>NaN</td>\n",
       "      <td>NaN</td>\n",
       "    </tr>\n",
       "  </tbody>\n",
       "</table>\n",
       "<p>5 rows × 45 columns</p>\n",
       "</div>"
      ],
      "text/plain": [
       "   current_month  shop_id  item_id  month_sale  prev_month  month_of_year  \\\n",
       "0         201301        0       32           6      201212              1   \n",
       "1         201301        0       33           3      201212              1   \n",
       "2         201301        0       35           1      201212              1   \n",
       "3         201301        0       43           1      201212              1   \n",
       "4         201301        0       51           2      201212              1   \n",
       "\n",
       "   month_x  shop_item_id_nunique  shop_item_category_id_nunique  \\\n",
       "0      NaN                   NaN                            NaN   \n",
       "1      NaN                   NaN                            NaN   \n",
       "2      NaN                   NaN                            NaN   \n",
       "3      NaN                   NaN                            NaN   \n",
       "4      NaN                   NaN                            NaN   \n",
       "\n",
       "   shop_revenue_sum  ...  month_y  item_price_mean  item_cnt_month  \\\n",
       "0               NaN  ...      NaN              NaN             NaN   \n",
       "1               NaN  ...      NaN              NaN             NaN   \n",
       "2               NaN  ...      NaN              NaN             NaN   \n",
       "3               NaN  ...      NaN              NaN             NaN   \n",
       "4               NaN  ...      NaN              NaN             NaN   \n",
       "\n",
       "   sold_date_count  item_category_id  revenue  item_cnt_sum_3_month  \\\n",
       "0              NaN               NaN      NaN                   NaN   \n",
       "1              NaN               NaN      NaN                   NaN   \n",
       "2              NaN               NaN      NaN                   NaN   \n",
       "3              NaN               NaN      NaN                   NaN   \n",
       "4              NaN               NaN      NaN                   NaN   \n",
       "\n",
       "   item_cnt_month_lag_2  item_cnt_month_lag_3  item_cnt_month_lag_12  \n",
       "0                   NaN                   NaN                    NaN  \n",
       "1                   NaN                   NaN                    NaN  \n",
       "2                   NaN                   NaN                    NaN  \n",
       "3                   NaN                   NaN                    NaN  \n",
       "4                   NaN                   NaN                    NaN  \n",
       "\n",
       "[5 rows x 45 columns]"
      ]
     },
     "execution_count": 43,
     "metadata": {},
     "output_type": "execute_result"
    }
   ],
   "source": [
    "full_train_data.head(5)"
   ]
  },
  {
   "cell_type": "code",
   "execution_count": 44,
   "id": "7be3c7fa",
   "metadata": {},
   "outputs": [
    {
     "data": {
      "text/plain": [
       "36"
      ]
     },
     "execution_count": 44,
     "metadata": {},
     "output_type": "execute_result"
    }
   ],
   "source": [
    "train_columns = [\n",
    "    #'current_month', \n",
    "#                  'shop_id', \n",
    "    'item_id', \n",
    "    'item_category_id',\n",
    "    'item_cnt_month',\n",
    "    'item_cnt_sum_3_month',\n",
    "    'item_cnt_month_lag_2', 'item_cnt_month_lag_3', \n",
    "#     'item_cnt_month_lag_12',\n",
    "    'shop_revenue_sum_3_month',\n",
    "       'shop_revenue_sum_6_month', 'shop_revenue_sum_12_month',\n",
    "                'item_price_mean', 'sold_date_count', 'revenue',\n",
    "#                 'prev_month', \n",
    "    'shop_item_id_nunique',\n",
    "                'shop_item_category_id_nunique', 'shop_revenue_sum',\n",
    "                'shop_item_cnt_month_sum', 'shop_item_cnt_month_mean',\n",
    "                'shop_item_cnt_month_std', 'shop_sold_date_count_sum',\n",
    "                'shop_sold_date_count_std', 'item_shop_id_nunique',\n",
    "                'item_revenue_sum', 'item_item_cnt_month_sum',\n",
    "                'item_item_cnt_month_mean', 'item_item_cnt_month_std',\n",
    "                'item_sold_date_count_sum', 'item_sold_date_count_std',\n",
    "                'category_shop_id_nunique', 'category_item_id_nunique',\n",
    "                'category_revenue_sum', 'category_item_cnt_month_sum',\n",
    "                'category_item_cnt_month_mean', 'category_item_cnt_month_std',\n",
    "                'category_sold_date_count_sum', 'category_sold_date_count_std',\n",
    "                'month_of_year']\n",
    "categorical_features = ['month_of_year', 'item_category_id', 'item_id']\n",
    "len(train_columns)"
   ]
  },
  {
   "cell_type": "code",
   "execution_count": 45,
   "id": "a24ff1c6",
   "metadata": {},
   "outputs": [
    {
     "data": {
      "text/plain": [
       "Index(['current_month', 'shop_id', 'item_id', 'month_sale'], dtype='object')"
      ]
     },
     "execution_count": 45,
     "metadata": {},
     "output_type": "execute_result"
    }
   ],
   "source": [
    "train_data.columns"
   ]
  },
  {
   "cell_type": "code",
   "execution_count": 46,
   "id": "809d0dd4",
   "metadata": {},
   "outputs": [
    {
     "data": {
      "text/plain": [
       "(5896840, 45)"
      ]
     },
     "execution_count": 46,
     "metadata": {},
     "output_type": "execute_result"
    }
   ],
   "source": [
    "full_train_data.shape"
   ]
  },
  {
   "cell_type": "code",
   "execution_count": 47,
   "id": "2c65f341",
   "metadata": {},
   "outputs": [],
   "source": [
    "# val_size = 250000\n",
    "# test_size = 250000\n",
    "# test_set = train_data[-test_size:]\n",
    "# val_set = train_data[-(val_size + test_size): -test_size]\n",
    "# train_set = train_data[:-(val_size + test_size)]\n",
    "\n",
    "\n",
    "# X_train = train_set[train_columns]\n",
    "# X_val = val_set[train_columns]\n",
    "# X_test = test_set[train_columns]\n",
    "# y_train = train_set['item_cnt_month']\n",
    "# y_val = val_set['item_cnt_month']\n",
    "# y_test = test_set['item_cnt_month']"
   ]
  },
  {
   "cell_type": "code",
   "execution_count": 48,
   "id": "50e0097b",
   "metadata": {},
   "outputs": [],
   "source": [
    "X_all = full_train_data[train_columns]\n",
    "y_all = full_train_data['month_sale']\n",
    "\n",
    "X_train, X_val_test, y_train, y_val_test = train_test_split(X_all, y_all, test_size=0.4)\n",
    "X_val, X_test, y_val, y_test = train_test_split(X_val_test, y_val_test, test_size=0.5)"
   ]
  },
  {
   "cell_type": "markdown",
   "id": "8be4eb6a",
   "metadata": {},
   "source": [
    "### lgbm model"
   ]
  },
  {
   "cell_type": "code",
   "execution_count": 49,
   "id": "209ed807",
   "metadata": {},
   "outputs": [],
   "source": [
    "## lgbm param\n",
    "params = {'boosting': 'gbdt',\n",
    "          'metric': 'rmse',\n",
    "          'objective': 'regression',\n",
    "          'num_leaves': 256,\n",
    "          'max_depth': 12,\n",
    "          'learning_rate': 0.01,\n",
    "          'bagging_fraction': 0.85,\n",
    "          'feature_fraction': 0.8,\n",
    "          'min_split_gain': 0.02,\n",
    "          'min_child_samples': 200,\n",
    "          'min_child_weight': 0.02,\n",
    "          'lambda_l2': 0.0475,\n",
    "          'verbosity': -1,\n",
    "          'data_random_seed': 17\n",
    "          }\n",
    "\n",
    "early_stop = 200\n",
    "verbose_eval = 50\n",
    "num_rounds = 500"
   ]
  },
  {
   "cell_type": "code",
   "execution_count": 50,
   "id": "38cd9c94",
   "metadata": {},
   "outputs": [
    {
     "name": "stderr",
     "output_type": "stream",
     "text": [
      "/media/phucdk/data/Project/python38_vf/lib/python3.8/site-packages/lightgbm/engine.py:181: UserWarning: 'early_stopping_rounds' argument is deprecated and will be removed in a future release of LightGBM. Pass 'early_stopping()' callback via 'callbacks' argument instead.\n",
      "  _log_warning(\"'early_stopping_rounds' argument is deprecated and will be removed in a future release of LightGBM. \"\n",
      "/media/phucdk/data/Project/python38_vf/lib/python3.8/site-packages/lightgbm/basic.py:2068: UserWarning: categorical_feature in Dataset is overridden.\n",
      "New categorical_feature is ['item_category_id', 'item_id', 'month_of_year']\n",
      "  _log_warning('categorical_feature in Dataset is overridden.\\n'\n",
      "/media/phucdk/data/Project/python38_vf/lib/python3.8/site-packages/lightgbm/engine.py:239: UserWarning: 'verbose_eval' argument is deprecated and will be removed in a future release of LightGBM. Pass 'log_evaluation()' callback via 'callbacks' argument instead.\n",
      "  _log_warning(\"'verbose_eval' argument is deprecated and will be removed in a future release of LightGBM. \"\n",
      "/media/phucdk/data/Project/python38_vf/lib/python3.8/site-packages/lightgbm/basic.py:1780: UserWarning: Overriding the parameters from Reference Dataset.\n",
      "  _log_warning('Overriding the parameters from Reference Dataset.')\n",
      "/media/phucdk/data/Project/python38_vf/lib/python3.8/site-packages/lightgbm/basic.py:1513: UserWarning: categorical_column in param dict is overridden.\n",
      "  _log_warning(f'{cat_alias} in param dict is overridden.')\n"
     ]
    },
    {
     "name": "stdout",
     "output_type": "stream",
     "text": [
      "Training until validation scores don't improve for 200 rounds\n",
      "[50]\ttraining's rmse: 3.48286\tvalid_1's rmse: 2.96123\n",
      "[100]\ttraining's rmse: 2.83084\tvalid_1's rmse: 2.21887\n",
      "[150]\ttraining's rmse: 2.5339\tvalid_1's rmse: 1.86616\n",
      "[200]\ttraining's rmse: 2.40528\tvalid_1's rmse: 1.71499\n",
      "[250]\ttraining's rmse: 2.34754\tvalid_1's rmse: 1.65691\n",
      "[300]\ttraining's rmse: 2.31816\tvalid_1's rmse: 1.63178\n",
      "[350]\ttraining's rmse: 2.30155\tvalid_1's rmse: 1.61926\n",
      "[400]\ttraining's rmse: 2.29104\tvalid_1's rmse: 1.61311\n",
      "[450]\ttraining's rmse: 2.25888\tvalid_1's rmse: 1.58444\n",
      "[500]\ttraining's rmse: 2.23337\tvalid_1's rmse: 1.56744\n",
      "Did not meet early stopping. Best iteration is:\n",
      "[500]\ttraining's rmse: 2.23337\tvalid_1's rmse: 1.56744\n"
     ]
    }
   ],
   "source": [
    "d_train = lgb.Dataset(X_train, label=y_train)\n",
    "d_valid = lgb.Dataset(X_val, label=y_val)\n",
    "watchlist = [d_train, d_valid]\n",
    "\n",
    "model = lgb.train(params,\n",
    "                  train_set=d_train,\n",
    "                  num_boost_round=num_rounds,\n",
    "                  valid_sets=watchlist,\n",
    "                  verbose_eval=verbose_eval,\n",
    "                  early_stopping_rounds=early_stop,\n",
    "                  categorical_feature=categorical_features)"
   ]
  },
  {
   "cell_type": "code",
   "execution_count": 51,
   "id": "d075fbba",
   "metadata": {},
   "outputs": [
    {
     "data": {
      "text/plain": [
       "1.820601087863184"
      ]
     },
     "execution_count": 51,
     "metadata": {},
     "output_type": "execute_result"
    }
   ],
   "source": [
    "y_test_pred = model.predict(X_test)\n",
    "np.sqrt(np.mean(np.square(y_test_pred - y_test)))"
   ]
  },
  {
   "cell_type": "code",
   "execution_count": 52,
   "id": "42e39eb3",
   "metadata": {},
   "outputs": [
    {
     "data": {
      "image/png": "[encoded data removed]",
      "text/plain": [
       "<Figure size 1440x720 with 1 Axes>"
      ]
     },
     "metadata": {
      "needs_background": "light"
     },
     "output_type": "display_data"
    }
   ],
   "source": [
    "import matplotlib.pyplot as plt\n",
    "import seaborn as sns\n",
    "import warnings\n",
    "warnings.simplefilter(action='ignore', category=FutureWarning)\n",
    "\n",
    "# sorted(zip(clf.feature_importances_, X.columns), reverse=True)\n",
    "feature_imp = pd.DataFrame(sorted(zip(model.feature_importance(), X_train.columns)), columns=['Value','Feature'])\n",
    "\n",
    "plt.figure(figsize=(20, 10))\n",
    "sns.barplot(x=\"Value\", y=\"Feature\", data=feature_imp.sort_values(by=\"Value\", ascending=False))\n",
    "plt.title('LightGBM Features (avg over folds)')\n",
    "plt.tight_layout()\n",
    "plt.show()\n",
    "# plt.savefig('lgbm_importances-01.png')"
   ]
  },
  {
   "cell_type": "markdown",
   "id": "7e7e2c12",
   "metadata": {},
   "source": [
    "### prediction"
   ]
  },
  {
   "cell_type": "code",
   "execution_count": 53,
   "id": "88ab7386",
   "metadata": {},
   "outputs": [
    {
     "data": {
      "text/plain": [
       "9626"
      ]
     },
     "execution_count": 53,
     "metadata": {},
     "output_type": "execute_result"
    }
   ],
   "source": [
    "del(full_train_data)\n",
    "gc.collect()"
   ]
  },
  {
   "cell_type": "code",
   "execution_count": 54,
   "id": "5df1614d",
   "metadata": {},
   "outputs": [],
   "source": [
    "test = pd.read_csv('test.csv')"
   ]
  },
  {
   "cell_type": "code",
   "execution_count": 55,
   "id": "b3d9140f",
   "metadata": {},
   "outputs": [
    {
     "data": {
      "text/html": [
       "<div>\n",
       "<style scoped>\n",
       "    .dataframe tbody tr th:only-of-type {\n",
       "        vertical-align: middle;\n",
       "    }\n",
       "\n",
       "    .dataframe tbody tr th {\n",
       "        vertical-align: top;\n",
       "    }\n",
       "\n",
       "    .dataframe thead th {\n",
       "        text-align: right;\n",
       "    }\n",
       "</style>\n",
       "<table border=\"1\" class=\"dataframe\">\n",
       "  <thead>\n",
       "    <tr style=\"text-align: right;\">\n",
       "      <th></th>\n",
       "      <th>ID</th>\n",
       "      <th>shop_id</th>\n",
       "      <th>item_id</th>\n",
       "    </tr>\n",
       "  </thead>\n",
       "  <tbody>\n",
       "    <tr>\n",
       "      <th>0</th>\n",
       "      <td>0</td>\n",
       "      <td>5</td>\n",
       "      <td>5037</td>\n",
       "    </tr>\n",
       "    <tr>\n",
       "      <th>1</th>\n",
       "      <td>1</td>\n",
       "      <td>5</td>\n",
       "      <td>5320</td>\n",
       "    </tr>\n",
       "    <tr>\n",
       "      <th>2</th>\n",
       "      <td>2</td>\n",
       "      <td>5</td>\n",
       "      <td>5233</td>\n",
       "    </tr>\n",
       "    <tr>\n",
       "      <th>3</th>\n",
       "      <td>3</td>\n",
       "      <td>5</td>\n",
       "      <td>5232</td>\n",
       "    </tr>\n",
       "    <tr>\n",
       "      <th>4</th>\n",
       "      <td>4</td>\n",
       "      <td>5</td>\n",
       "      <td>5268</td>\n",
       "    </tr>\n",
       "  </tbody>\n",
       "</table>\n",
       "</div>"
      ],
      "text/plain": [
       "   ID  shop_id  item_id\n",
       "0   0        5     5037\n",
       "1   1        5     5320\n",
       "2   2        5     5233\n",
       "3   3        5     5232\n",
       "4   4        5     5268"
      ]
     },
     "execution_count": 55,
     "metadata": {},
     "output_type": "execute_result"
    }
   ],
   "source": [
    "test.head(5)"
   ]
  },
  {
   "cell_type": "code",
   "execution_count": 56,
   "id": "d8f2649a",
   "metadata": {},
   "outputs": [],
   "source": [
    "test = test.merge(items, how='left', on='item_id')\n",
    "test['prev_month'] = 201510\n",
    "test['month_of_year'] = 11"
   ]
  },
  {
   "cell_type": "code",
   "execution_count": 57,
   "id": "68f7df53",
   "metadata": {},
   "outputs": [],
   "source": [
    "test = merge_feature(test)"
   ]
  },
  {
   "cell_type": "code",
   "execution_count": 58,
   "id": "4ec6d781",
   "metadata": {},
   "outputs": [],
   "source": [
    "y_pred = model.predict(test[train_columns])"
   ]
  },
  {
   "cell_type": "code",
   "execution_count": 59,
   "id": "774219b5",
   "metadata": {},
   "outputs": [],
   "source": [
    "test['item_cnt_month'] = y_pred\n",
    "test[['ID', 'item_cnt_month']].to_csv('sample_submission.csv', index=False)"
   ]
  },
  {
   "cell_type": "code",
   "execution_count": 60,
   "id": "49ed689a",
   "metadata": {},
   "outputs": [
    {
     "data": {
      "text/plain": [
       "array([0.00288682, 0.3163686 , 1.00212931, ..., 0.00389384, 0.00364032,\n",
       "       0.00376169])"
      ]
     },
     "execution_count": 60,
     "metadata": {},
     "output_type": "execute_result"
    }
   ],
   "source": [
    "y_pred"
   ]
  },
  {
   "cell_type": "code",
   "execution_count": 76,
   "id": "e2e3889b",
   "metadata": {},
   "outputs": [],
   "source": [
    "item_predict_result = dict()\n",
    "for index, row  in test[['item_id', 'shop_id', 'item_cnt_month']].iterrows():\n",
    "    item_id = int(row['item_id'])\n",
    "    shop_id = int(row['shop_id'])\n",
    "    predict_sale = row['item_cnt_month']\n",
    "    if item_id not in item_predict_result:\n",
    "        item_predict_result[item_id] = []\n",
    "    item_predict_result[item_id].append((shop_id, predict_sale))"
   ]
  },
  {
   "cell_type": "code",
   "execution_count": 77,
   "id": "4723b39f",
   "metadata": {},
   "outputs": [],
   "source": [
    "import pickle"
   ]
  },
  {
   "cell_type": "code",
   "execution_count": 78,
   "id": "95b2762f",
   "metadata": {},
   "outputs": [],
   "source": [
    "pickle.dump(item_predict_result, open('item_predict_result.pkl', 'wb'))"
   ]
  },
  {
   "cell_type": "code",
   "execution_count": null,
   "id": "584af772",
   "metadata": {},
   "outputs": [],
   "source": []
  },
  {
   "cell_type": "code",
   "execution_count": null,
   "id": "c6135a4d",
   "metadata": {},
   "outputs": [],
   "source": []
  },
  {
   "cell_type": "code",
   "execution_count": null,
   "id": "122f08c3",
   "metadata": {},
   "outputs": [],
   "source": []
  },
  {
   "cell_type": "code",
   "execution_count": null,
   "id": "12a697a7",
   "metadata": {},
   "outputs": [],
   "source": []
  },
  {
   "cell_type": "code",
   "execution_count": null,
   "id": "f6a1719d",
   "metadata": {},
   "outputs": [],
   "source": []
  },
  {
   "cell_type": "code",
   "execution_count": null,
   "id": "084614db",
   "metadata": {},
   "outputs": [],
   "source": []
  },
  {
   "cell_type": "code",
   "execution_count": null,
   "id": "4c0e6a38",
   "metadata": {},
   "outputs": [],
   "source": []
  },
  {
   "cell_type": "code",
   "execution_count": null,
   "id": "a64e99cc",
   "metadata": {},
   "outputs": [],
   "source": []
  },
  {
   "cell_type": "code",
   "execution_count": null,
   "id": "8393df1e",
   "metadata": {},
   "outputs": [],
   "source": []
  },
  {
   "cell_type": "code",
   "execution_count": null,
   "id": "0c62ac9c",
   "metadata": {},
   "outputs": [],
   "source": []
  },
  {
   "cell_type": "code",
   "execution_count": null,
   "id": "7f153fc5",
   "metadata": {},
   "outputs": [],
   "source": []
  },
  {
   "cell_type": "code",
   "execution_count": null,
   "id": "787a67a0",
   "metadata": {},
   "outputs": [],
   "source": []
  },
  {
   "cell_type": "code",
   "execution_count": null,
   "id": "ca4e1bdc",
   "metadata": {},
   "outputs": [],
   "source": []
  },
  {
   "cell_type": "code",
   "execution_count": null,
   "id": "2cefb2fe",
   "metadata": {},
   "outputs": [],
   "source": []
  },
  {
   "cell_type": "code",
   "execution_count": null,
   "id": "48dd1fbf",
   "metadata": {},
   "outputs": [],
   "source": []
  },
  {
   "cell_type": "code",
   "execution_count": null,
   "id": "4b29431a",
   "metadata": {},
   "outputs": [],
   "source": []
  },
  {
   "cell_type": "code",
   "execution_count": null,
   "id": "4c8f0d5b",
   "metadata": {},
   "outputs": [],
   "source": []
  },
  {
   "cell_type": "code",
   "execution_count": null,
   "id": "4637e81a",
   "metadata": {},
   "outputs": [],
   "source": []
  }
 ],
 "metadata": {
  "kernelspec": {
   "display_name": "vf-venv",
   "language": "python",
   "name": "vf-venv"
  },
  "language_info": {
   "codemirror_mode": {
    "name": "ipython",
    "version": 3
   },
   "file_extension": ".py",
   "mimetype": "text/x-python",
   "name": "python",
   "nbconvert_exporter": "python",
   "pygments_lexer": "ipython3",
   "version": "3.8.10"
  }
 },
 "nbformat": 4,
 "nbformat_minor": 5
}
